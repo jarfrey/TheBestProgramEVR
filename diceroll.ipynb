{
 "cells": [
  {
   "cell_type": "markdown",
   "id": "8dbd1855-1986-4f49-a3d7-01929f2d182a",
   "metadata": {},
   "source": [
    "# This is our program, the best program ever."
   ]
  },
  {
   "cell_type": "code",
   "execution_count": 2,
   "id": "9edce9ef-3842-4123-820c-703d7e4e04a8",
   "metadata": {},
   "outputs": [
    {
     "name": "stdin",
     "output_type": "stream",
     "text": [
      "What is your name? Jack\n",
      "How many dice would you like to roll? 12\n",
      "How many sides should each of these dice have? 1000\n"
     ]
    },
    {
     "name": "stdout",
     "output_type": "stream",
     "text": [
      "Okay Jack, here are the results of your dice rolls:\n",
      "508 842 136 587 419 294 685 922 378 231 626 309 "
     ]
    }
   ],
   "source": [
    "import random\n",
    "\n",
    "results = \"\"\n",
    "name = input(\"What is your name?\")\n",
    "try:\n",
    "    dRollAmt = input(\"How many dice would you like to roll?\")\n",
    "    dRollAmt = int(dRollAmt)\n",
    "    dSidesAmt = input(\"How many sides should each of these dice have?\")\n",
    "    dSidesAmt = int(dSidesAmt) \n",
    "except:\n",
    "    print(\"Please enter a number next time.\")\n",
    "\n",
    "if(dRollAmt > 0) and (dSidesAmt > 1):\n",
    "    print(\"Okay \" + name + \", here are the results of your dice rolls:\")\n",
    "    while (dRollAmt > 0):\n",
    "        dRollAmt -= 1\n",
    "        randInt = random.randint(1, dSidesAmt)\n",
    "        print(randInt, end=\" \")\n",
    "else:\n",
    "    print(\"Please enter a valid amount of dice and side amounts.\")\n",
    "\n"
   ]
  }
 ],
 "metadata": {
  "kernelspec": {
   "display_name": "Python 3 (ipykernel)",
   "language": "python",
   "name": "python3"
  },
  "language_info": {
   "codemirror_mode": {
    "name": "ipython",
    "version": 3
   },
   "file_extension": ".py",
   "mimetype": "text/x-python",
   "name": "python",
   "nbconvert_exporter": "python",
   "pygments_lexer": "ipython3",
   "version": "3.11.13"
  }
 },
 "nbformat": 4,
 "nbformat_minor": 5
}
